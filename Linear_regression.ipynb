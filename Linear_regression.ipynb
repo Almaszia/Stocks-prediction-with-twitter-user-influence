{
  "cells": [
    {
      "cell_type": "code",
      "execution_count": null,
      "metadata": {
        "id": "_gu-eMLSntw6"
      },
      "outputs": [],
      "source": [
        "import pandas as pd\n",
        "import numpy as np\n",
        "import matplotlib.pyplot as plt\n",
        "import seaborn as sns\n",
        "from sklearn.svm import SVR\n",
        "from sklearn.linear_model import LinearRegression\n",
        "from sklearn.model_selection import train_test_split\n",
        "from sklearn.metrics import accuracy_score,r2_score,confusion_matrix\n",
        "%matplotlib inline"
      ]
    },
    {
      "cell_type": "code",
      "execution_count": null,
      "metadata": {
        "colab": {
          "base_uri": "https://localhost:8080/",
          "height": 883
        },
        "id": "YYT556Tkr8MB",
        "outputId": "98fc8b80-95bd-4a48-cd3c-611d0843cc1d"
      },
      "outputs": [
        {
          "data": {
            "text/html": [
              "\n",
              "  <div id=\"df-d107f328-6d5c-424f-8296-b75fa06fc9f9\">\n",
              "    <div class=\"colab-df-container\">\n",
              "      <div>\n",
              "<style scoped>\n",
              "    .dataframe tbody tr th:only-of-type {\n",
              "        vertical-align: middle;\n",
              "    }\n",
              "\n",
              "    .dataframe tbody tr th {\n",
              "        vertical-align: top;\n",
              "    }\n",
              "\n",
              "    .dataframe thead th {\n",
              "        text-align: right;\n",
              "    }\n",
              "</style>\n",
              "<table border=\"1\" class=\"dataframe\">\n",
              "  <thead>\n",
              "    <tr style=\"text-align: right;\">\n",
              "      <th></th>\n",
              "      <th>Unnamed: 0</th>\n",
              "      <th>Open</th>\n",
              "      <th>High</th>\n",
              "      <th>Low</th>\n",
              "      <th>Close</th>\n",
              "      <th>Volume</th>\n",
              "      <th>Sen_score</th>\n",
              "      <th>Sen_label</th>\n",
              "      <th>T_id</th>\n",
              "      <th>Inf_Score</th>\n",
              "      <th>TWITTER HANDLE</th>\n",
              "      <th>s_score_mean</th>\n",
              "      <th>s_sentiment_label</th>\n",
              "      <th>Infs_mean</th>\n",
              "      <th>Infs_add</th>\n",
              "      <th>next_day_close_price</th>\n",
              "      <th>next_day_open_price</th>\n",
              "    </tr>\n",
              "    <tr>\n",
              "      <th>Date</th>\n",
              "      <th></th>\n",
              "      <th></th>\n",
              "      <th></th>\n",
              "      <th></th>\n",
              "      <th></th>\n",
              "      <th></th>\n",
              "      <th></th>\n",
              "      <th></th>\n",
              "      <th></th>\n",
              "      <th></th>\n",
              "      <th></th>\n",
              "      <th></th>\n",
              "      <th></th>\n",
              "      <th></th>\n",
              "      <th></th>\n",
              "      <th></th>\n",
              "      <th></th>\n",
              "    </tr>\n",
              "  </thead>\n",
              "  <tbody>\n",
              "    <tr>\n",
              "      <th>2016-01-01</th>\n",
              "      <td>0</td>\n",
              "      <td>500.010</td>\n",
              "      <td>500.01</td>\n",
              "      <td>498.010</td>\n",
              "      <td>498.51</td>\n",
              "      <td>500</td>\n",
              "      <td>[]</td>\n",
              "      <td>[]</td>\n",
              "      <td>[]</td>\n",
              "      <td>[]</td>\n",
              "      <td>[]</td>\n",
              "      <td>0.00000</td>\n",
              "      <td>NaN</td>\n",
              "      <td>0.000000</td>\n",
              "      <td>0.000000</td>\n",
              "      <td>498.51</td>\n",
              "      <td>497.505</td>\n",
              "    </tr>\n",
              "    <tr>\n",
              "      <th>2016-01-02</th>\n",
              "      <td>1</td>\n",
              "      <td>497.505</td>\n",
              "      <td>500.00</td>\n",
              "      <td>495.505</td>\n",
              "      <td>498.51</td>\n",
              "      <td>2300</td>\n",
              "      <td>[]</td>\n",
              "      <td>[]</td>\n",
              "      <td>[]</td>\n",
              "      <td>[]</td>\n",
              "      <td>[]</td>\n",
              "      <td>0.00000</td>\n",
              "      <td>NaN</td>\n",
              "      <td>0.000000</td>\n",
              "      <td>0.000000</td>\n",
              "      <td>498.51</td>\n",
              "      <td>497.505</td>\n",
              "    </tr>\n",
              "    <tr>\n",
              "      <th>2016-01-03</th>\n",
              "      <td>2</td>\n",
              "      <td>497.505</td>\n",
              "      <td>500.00</td>\n",
              "      <td>495.505</td>\n",
              "      <td>498.51</td>\n",
              "      <td>2300</td>\n",
              "      <td>[ 0.0772 -0.8834]</td>\n",
              "      <td>['Pos' 'Neg']</td>\n",
              "      <td>[704577331432660992 704662143090761728]</td>\n",
              "      <td>[0.00027914 0.00231668]</td>\n",
              "      <td>['nimraraees99' 'frontpocket00']</td>\n",
              "      <td>-0.40310</td>\n",
              "      <td>Neu</td>\n",
              "      <td>0.001298</td>\n",
              "      <td>0.002596</td>\n",
              "      <td>498.51</td>\n",
              "      <td>497.505</td>\n",
              "    </tr>\n",
              "    <tr>\n",
              "      <th>2016-01-04</th>\n",
              "      <td>3</td>\n",
              "      <td>497.505</td>\n",
              "      <td>500.00</td>\n",
              "      <td>495.505</td>\n",
              "      <td>498.51</td>\n",
              "      <td>2300</td>\n",
              "      <td>[]</td>\n",
              "      <td>[]</td>\n",
              "      <td>[704577331432660992 704662143090761728]</td>\n",
              "      <td>[]</td>\n",
              "      <td>[]</td>\n",
              "      <td>0.00000</td>\n",
              "      <td>NaN</td>\n",
              "      <td>0.000000</td>\n",
              "      <td>0.000000</td>\n",
              "      <td>495.91</td>\n",
              "      <td>495.000</td>\n",
              "    </tr>\n",
              "    <tr>\n",
              "      <th>2016-01-05</th>\n",
              "      <td>4</td>\n",
              "      <td>495.000</td>\n",
              "      <td>499.99</td>\n",
              "      <td>493.000</td>\n",
              "      <td>495.91</td>\n",
              "      <td>4100</td>\n",
              "      <td>[]</td>\n",
              "      <td>[]</td>\n",
              "      <td>[704577331432660992 704662143090761728]</td>\n",
              "      <td>[]</td>\n",
              "      <td>[]</td>\n",
              "      <td>0.00000</td>\n",
              "      <td>NaN</td>\n",
              "      <td>0.000000</td>\n",
              "      <td>0.000000</td>\n",
              "      <td>492.00</td>\n",
              "      <td>495.000</td>\n",
              "    </tr>\n",
              "    <tr>\n",
              "      <th>...</th>\n",
              "      <td>...</td>\n",
              "      <td>...</td>\n",
              "      <td>...</td>\n",
              "      <td>...</td>\n",
              "      <td>...</td>\n",
              "      <td>...</td>\n",
              "      <td>...</td>\n",
              "      <td>...</td>\n",
              "      <td>...</td>\n",
              "      <td>...</td>\n",
              "      <td>...</td>\n",
              "      <td>...</td>\n",
              "      <td>...</td>\n",
              "      <td>...</td>\n",
              "      <td>...</td>\n",
              "      <td>...</td>\n",
              "      <td>...</td>\n",
              "    </tr>\n",
              "    <tr>\n",
              "      <th>2019-12-27</th>\n",
              "      <td>1456</td>\n",
              "      <td>371.000</td>\n",
              "      <td>375.00</td>\n",
              "      <td>361.000</td>\n",
              "      <td>363.94</td>\n",
              "      <td>155600</td>\n",
              "      <td>[]</td>\n",
              "      <td>[]</td>\n",
              "      <td>[ 704577331432660992  704662143090761728  7600...</td>\n",
              "      <td>[]</td>\n",
              "      <td>[]</td>\n",
              "      <td>0.00000</td>\n",
              "      <td>NaN</td>\n",
              "      <td>0.000000</td>\n",
              "      <td>0.000000</td>\n",
              "      <td>365.07</td>\n",
              "      <td>369.500</td>\n",
              "    </tr>\n",
              "    <tr>\n",
              "      <th>2019-12-28</th>\n",
              "      <td>1457</td>\n",
              "      <td>369.500</td>\n",
              "      <td>372.50</td>\n",
              "      <td>363.500</td>\n",
              "      <td>365.07</td>\n",
              "      <td>106050</td>\n",
              "      <td>[-0.9007 -0.7003 -0.9007]</td>\n",
              "      <td>['Neg' 'Neg' 'Neg']</td>\n",
              "      <td>[ 704577331432660992  704662143090761728  7600...</td>\n",
              "      <td>[0.00081098 0.01342346 0.02072638]</td>\n",
              "      <td>['DariusChirchir' 'Mombasapresscl1' 'ekisianga...</td>\n",
              "      <td>-0.83390</td>\n",
              "      <td>Neg</td>\n",
              "      <td>0.011654</td>\n",
              "      <td>0.034961</td>\n",
              "      <td>365.07</td>\n",
              "      <td>369.500</td>\n",
              "    </tr>\n",
              "    <tr>\n",
              "      <th>2019-12-29</th>\n",
              "      <td>1458</td>\n",
              "      <td>369.500</td>\n",
              "      <td>372.50</td>\n",
              "      <td>363.500</td>\n",
              "      <td>365.07</td>\n",
              "      <td>106050</td>\n",
              "      <td>[]</td>\n",
              "      <td>[]</td>\n",
              "      <td>[ 704577331432660992  704662143090761728  7600...</td>\n",
              "      <td>[]</td>\n",
              "      <td>[]</td>\n",
              "      <td>0.00000</td>\n",
              "      <td>NaN</td>\n",
              "      <td>0.000000</td>\n",
              "      <td>0.000000</td>\n",
              "      <td>366.20</td>\n",
              "      <td>368.000</td>\n",
              "    </tr>\n",
              "    <tr>\n",
              "      <th>2019-12-30</th>\n",
              "      <td>1459</td>\n",
              "      <td>368.000</td>\n",
              "      <td>370.00</td>\n",
              "      <td>366.000</td>\n",
              "      <td>366.20</td>\n",
              "      <td>56500</td>\n",
              "      <td>[-0.7236 -0.1027]</td>\n",
              "      <td>['Neg' 'Neg']</td>\n",
              "      <td>[ 704577331432660992  704662143090761728  7600...</td>\n",
              "      <td>[0.00014958 0.01350153]</td>\n",
              "      <td>['PKP_19' 'qdepim']</td>\n",
              "      <td>-0.41315</td>\n",
              "      <td>Neg</td>\n",
              "      <td>0.006826</td>\n",
              "      <td>0.013651</td>\n",
              "      <td>369.80</td>\n",
              "      <td>369.500</td>\n",
              "    </tr>\n",
              "    <tr>\n",
              "      <th>2019-12-31</th>\n",
              "      <td>1460</td>\n",
              "      <td>369.500</td>\n",
              "      <td>370.00</td>\n",
              "      <td>363.000</td>\n",
              "      <td>369.80</td>\n",
              "      <td>14600</td>\n",
              "      <td>[ 0.5719 -0.89  ]</td>\n",
              "      <td>['Pos' 'Neg']</td>\n",
              "      <td>[ 704577331432660992  704662143090761728  7600...</td>\n",
              "      <td>[0.00023052 0.00182445]</td>\n",
              "      <td>['azeemqadeer1' 'ScotlandSteel']</td>\n",
              "      <td>-0.15905</td>\n",
              "      <td>Neu</td>\n",
              "      <td>0.001027</td>\n",
              "      <td>0.002055</td>\n",
              "      <td>NaN</td>\n",
              "      <td>NaN</td>\n",
              "    </tr>\n",
              "  </tbody>\n",
              "</table>\n",
              "<p>1461 rows × 17 columns</p>\n",
              "</div>\n",
              "      <button class=\"colab-df-convert\" onclick=\"convertToInteractive('df-d107f328-6d5c-424f-8296-b75fa06fc9f9')\"\n",
              "              title=\"Convert this dataframe to an interactive table.\"\n",
              "              style=\"display:none;\">\n",
              "        \n",
              "  <svg xmlns=\"http://www.w3.org/2000/svg\" height=\"24px\"viewBox=\"0 0 24 24\"\n",
              "       width=\"24px\">\n",
              "    <path d=\"M0 0h24v24H0V0z\" fill=\"none\"/>\n",
              "    <path d=\"M18.56 5.44l.94 2.06.94-2.06 2.06-.94-2.06-.94-.94-2.06-.94 2.06-2.06.94zm-11 1L8.5 8.5l.94-2.06 2.06-.94-2.06-.94L8.5 2.5l-.94 2.06-2.06.94zm10 10l.94 2.06.94-2.06 2.06-.94-2.06-.94-.94-2.06-.94 2.06-2.06.94z\"/><path d=\"M17.41 7.96l-1.37-1.37c-.4-.4-.92-.59-1.43-.59-.52 0-1.04.2-1.43.59L10.3 9.45l-7.72 7.72c-.78.78-.78 2.05 0 2.83L4 21.41c.39.39.9.59 1.41.59.51 0 1.02-.2 1.41-.59l7.78-7.78 2.81-2.81c.8-.78.8-2.07 0-2.86zM5.41 20L4 18.59l7.72-7.72 1.47 1.35L5.41 20z\"/>\n",
              "  </svg>\n",
              "      </button>\n",
              "      \n",
              "  <style>\n",
              "    .colab-df-container {\n",
              "      display:flex;\n",
              "      flex-wrap:wrap;\n",
              "      gap: 12px;\n",
              "    }\n",
              "\n",
              "    .colab-df-convert {\n",
              "      background-color: #E8F0FE;\n",
              "      border: none;\n",
              "      border-radius: 50%;\n",
              "      cursor: pointer;\n",
              "      display: none;\n",
              "      fill: #1967D2;\n",
              "      height: 32px;\n",
              "      padding: 0 0 0 0;\n",
              "      width: 32px;\n",
              "    }\n",
              "\n",
              "    .colab-df-convert:hover {\n",
              "      background-color: #E2EBFA;\n",
              "      box-shadow: 0px 1px 2px rgba(60, 64, 67, 0.3), 0px 1px 3px 1px rgba(60, 64, 67, 0.15);\n",
              "      fill: #174EA6;\n",
              "    }\n",
              "\n",
              "    [theme=dark] .colab-df-convert {\n",
              "      background-color: #3B4455;\n",
              "      fill: #D2E3FC;\n",
              "    }\n",
              "\n",
              "    [theme=dark] .colab-df-convert:hover {\n",
              "      background-color: #434B5C;\n",
              "      box-shadow: 0px 1px 3px 1px rgba(0, 0, 0, 0.15);\n",
              "      filter: drop-shadow(0px 1px 2px rgba(0, 0, 0, 0.3));\n",
              "      fill: #FFFFFF;\n",
              "    }\n",
              "  </style>\n",
              "\n",
              "      <script>\n",
              "        const buttonEl =\n",
              "          document.querySelector('#df-d107f328-6d5c-424f-8296-b75fa06fc9f9 button.colab-df-convert');\n",
              "        buttonEl.style.display =\n",
              "          google.colab.kernel.accessAllowed ? 'block' : 'none';\n",
              "\n",
              "        async function convertToInteractive(key) {\n",
              "          const element = document.querySelector('#df-d107f328-6d5c-424f-8296-b75fa06fc9f9');\n",
              "          const dataTable =\n",
              "            await google.colab.kernel.invokeFunction('convertToInteractive',\n",
              "                                                     [key], {});\n",
              "          if (!dataTable) return;\n",
              "\n",
              "          const docLinkHtml = 'Like what you see? Visit the ' +\n",
              "            '<a target=\"_blank\" href=https://colab.research.google.com/notebooks/data_table.ipynb>data table notebook</a>'\n",
              "            + ' to learn more about interactive tables.';\n",
              "          element.innerHTML = '';\n",
              "          dataTable['output_type'] = 'display_data';\n",
              "          await google.colab.output.renderOutput(dataTable, element);\n",
              "          const docLink = document.createElement('div');\n",
              "          docLink.innerHTML = docLinkHtml;\n",
              "          element.appendChild(docLink);\n",
              "        }\n",
              "      </script>\n",
              "    </div>\n",
              "  </div>\n",
              "  "
            ],
            "text/plain": [
              "            Unnamed: 0     Open    High      Low   Close  Volume  \\\n",
              "Date                                                               \n",
              "2016-01-01           0  500.010  500.01  498.010  498.51     500   \n",
              "2016-01-02           1  497.505  500.00  495.505  498.51    2300   \n",
              "2016-01-03           2  497.505  500.00  495.505  498.51    2300   \n",
              "2016-01-04           3  497.505  500.00  495.505  498.51    2300   \n",
              "2016-01-05           4  495.000  499.99  493.000  495.91    4100   \n",
              "...                ...      ...     ...      ...     ...     ...   \n",
              "2019-12-27        1456  371.000  375.00  361.000  363.94  155600   \n",
              "2019-12-28        1457  369.500  372.50  363.500  365.07  106050   \n",
              "2019-12-29        1458  369.500  372.50  363.500  365.07  106050   \n",
              "2019-12-30        1459  368.000  370.00  366.000  366.20   56500   \n",
              "2019-12-31        1460  369.500  370.00  363.000  369.80   14600   \n",
              "\n",
              "                            Sen_score            Sen_label  \\\n",
              "Date                                                         \n",
              "2016-01-01                         []                   []   \n",
              "2016-01-02                         []                   []   \n",
              "2016-01-03          [ 0.0772 -0.8834]        ['Pos' 'Neg']   \n",
              "2016-01-04                         []                   []   \n",
              "2016-01-05                         []                   []   \n",
              "...                               ...                  ...   \n",
              "2019-12-27                         []                   []   \n",
              "2019-12-28  [-0.9007 -0.7003 -0.9007]  ['Neg' 'Neg' 'Neg']   \n",
              "2019-12-29                         []                   []   \n",
              "2019-12-30          [-0.7236 -0.1027]        ['Neg' 'Neg']   \n",
              "2019-12-31          [ 0.5719 -0.89  ]        ['Pos' 'Neg']   \n",
              "\n",
              "                                                         T_id  \\\n",
              "Date                                                            \n",
              "2016-01-01                                                 []   \n",
              "2016-01-02                                                 []   \n",
              "2016-01-03            [704577331432660992 704662143090761728]   \n",
              "2016-01-04            [704577331432660992 704662143090761728]   \n",
              "2016-01-05            [704577331432660992 704662143090761728]   \n",
              "...                                                       ...   \n",
              "2019-12-27  [ 704577331432660992  704662143090761728  7600...   \n",
              "2019-12-28  [ 704577331432660992  704662143090761728  7600...   \n",
              "2019-12-29  [ 704577331432660992  704662143090761728  7600...   \n",
              "2019-12-30  [ 704577331432660992  704662143090761728  7600...   \n",
              "2019-12-31  [ 704577331432660992  704662143090761728  7600...   \n",
              "\n",
              "                                     Inf_Score  \\\n",
              "Date                                             \n",
              "2016-01-01                                  []   \n",
              "2016-01-02                                  []   \n",
              "2016-01-03             [0.00027914 0.00231668]   \n",
              "2016-01-04                                  []   \n",
              "2016-01-05                                  []   \n",
              "...                                        ...   \n",
              "2019-12-27                                  []   \n",
              "2019-12-28  [0.00081098 0.01342346 0.02072638]   \n",
              "2019-12-29                                  []   \n",
              "2019-12-30             [0.00014958 0.01350153]   \n",
              "2019-12-31             [0.00023052 0.00182445]   \n",
              "\n",
              "                                               TWITTER HANDLE  s_score_mean  \\\n",
              "Date                                                                          \n",
              "2016-01-01                                                 []       0.00000   \n",
              "2016-01-02                                                 []       0.00000   \n",
              "2016-01-03                   ['nimraraees99' 'frontpocket00']      -0.40310   \n",
              "2016-01-04                                                 []       0.00000   \n",
              "2016-01-05                                                 []       0.00000   \n",
              "...                                                       ...           ...   \n",
              "2019-12-27                                                 []       0.00000   \n",
              "2019-12-28  ['DariusChirchir' 'Mombasapresscl1' 'ekisianga...      -0.83390   \n",
              "2019-12-29                                                 []       0.00000   \n",
              "2019-12-30                                ['PKP_19' 'qdepim']      -0.41315   \n",
              "2019-12-31                   ['azeemqadeer1' 'ScotlandSteel']      -0.15905   \n",
              "\n",
              "           s_sentiment_label  Infs_mean  Infs_add  next_day_close_price  \\\n",
              "Date                                                                      \n",
              "2016-01-01               NaN   0.000000  0.000000                498.51   \n",
              "2016-01-02               NaN   0.000000  0.000000                498.51   \n",
              "2016-01-03               Neu   0.001298  0.002596                498.51   \n",
              "2016-01-04               NaN   0.000000  0.000000                495.91   \n",
              "2016-01-05               NaN   0.000000  0.000000                492.00   \n",
              "...                      ...        ...       ...                   ...   \n",
              "2019-12-27               NaN   0.000000  0.000000                365.07   \n",
              "2019-12-28               Neg   0.011654  0.034961                365.07   \n",
              "2019-12-29               NaN   0.000000  0.000000                366.20   \n",
              "2019-12-30               Neg   0.006826  0.013651                369.80   \n",
              "2019-12-31               Neu   0.001027  0.002055                   NaN   \n",
              "\n",
              "            next_day_open_price  \n",
              "Date                             \n",
              "2016-01-01              497.505  \n",
              "2016-01-02              497.505  \n",
              "2016-01-03              497.505  \n",
              "2016-01-04              495.000  \n",
              "2016-01-05              495.000  \n",
              "...                         ...  \n",
              "2019-12-27              369.500  \n",
              "2019-12-28              369.500  \n",
              "2019-12-29              368.000  \n",
              "2019-12-30              369.500  \n",
              "2019-12-31                  NaN  \n",
              "\n",
              "[1461 rows x 17 columns]"
            ]
          },
          "execution_count": 65,
          "metadata": {},
          "output_type": "execute_result"
        }
      ],
      "source": [
        "ndf = pd.read_csv('APL_Final_data_with_infScore (1).csv', index_col=\"Date\", infer_datetime_format=True, parse_dates=True)\n",
        "ndf"
      ]
    },
    {
      "cell_type": "code",
      "execution_count": null,
      "metadata": {
        "colab": {
          "base_uri": "https://localhost:8080/"
        },
        "id": "AVxmDMk7r8Oz",
        "outputId": "e2669aa5-8d1b-4883-b8c8-af5e97f45b0a"
      },
      "outputs": [
        {
          "data": {
            "text/plain": [
              "(1460, 7)"
            ]
          },
          "execution_count": 66,
          "metadata": {},
          "output_type": "execute_result"
        }
      ],
      "source": [
        "ndf = ndf[[\"Close\", \"s_score_mean\", \"Open\", \"High\", \"Low\" , \"next_day_open_price\" ,\"Infs_add\"\t]]\n",
        "ndf = ndf.dropna()\n",
        "ndf.shape"
      ]
    },
    {
      "cell_type": "code",
      "execution_count": null,
      "metadata": {
        "id": "TtKn3yPHr8Ri"
      },
      "outputs": [],
      "source": [
        "X = ndf[[\"Close\", \"s_score_mean\",\"Infs_add\" , \"Open\"\t]]\n",
        "Y = ndf['next_day_open_price']\n",
        "yy = np.array(Y).reshape(-1, 1)"
      ]
    },
    {
      "cell_type": "code",
      "execution_count": null,
      "metadata": {
        "id": "pYKjKHVGr8UC"
      },
      "outputs": [],
      "source": [
        "X_split = int(0.7 * len(X))\n",
        "y_split = int(0.7 * len(yy))\n",
        "\n",
        "\n",
        "\n",
        "\n",
        "X_train = X[: X_split]\n",
        "X_test = X[X_split:]\n",
        "y_train = yy[: y_split]"
      ]
    },
    {
      "cell_type": "code",
      "execution_count": null,
      "metadata": {
        "colab": {
          "base_uri": "https://localhost:8080/"
        },
        "id": "hD0Q5xTvr8W2",
        "outputId": "f844bcd4-cad0-4c35-93d6-7eb1b32e331b"
      },
      "outputs": [
        {
          "name": "stdout",
          "output_type": "stream",
          "text": [
            "(1021, 3) (439, 3) (1021, 1) (439, 1)\n"
          ]
        }
      ],
      "source": [
        "print(X_train.shape, X_test.shape, y_train.shape, y_test.shape)"
      ]
    },
    {
      "cell_type": "code",
      "execution_count": null,
      "metadata": {
        "id": "qNqbOxJHr8Zl"
      },
      "outputs": [],
      "source": [
        "from sklearn.preprocessing import MinMaxScaler"
      ]
    },
    {
      "cell_type": "code",
      "execution_count": null,
      "metadata": {
        "id": "yt-BeJKNr8cF"
      },
      "outputs": [],
      "source": [
        "# Use the MinMaxScaler to scale data between 0 and 1.\n",
        "x_train_scaler = MinMaxScaler()\n",
        "x_test_scaler = MinMaxScaler()\n",
        "y_train_scaler = MinMaxScaler()\n",
        "y_test_scaler = MinMaxScaler()\n",
        "\n",
        "# Fit the scaler for the Training Data\n",
        "x_train_scaler.fit(X_train)\n",
        "y_train_scaler.fit(y_train)\n",
        "\n",
        "# Scale the training data\n",
        "X_train = x_train_scaler.transform(X_train)\n",
        "y_train = y_train_scaler.transform(y_train)\n",
        "\n",
        "# Fit the scaler for the Testing Data\n",
        "x_test_scaler.fit(X_test)\n",
        "y_test_scaler.fit(y_test)\n",
        "\n",
        "# Scale the y_test data\n",
        "X_test = x_test_scaler.transform(X_test)\n",
        "y_test = y_test_scaler.transform(y_test)"
      ]
    },
    {
      "cell_type": "code",
      "execution_count": null,
      "metadata": {
        "id": "Oka_EF9Htbko"
      },
      "outputs": [],
      "source": [
        "linear_reg = LinearRegression()"
      ]
    },
    {
      "cell_type": "code",
      "execution_count": null,
      "metadata": {
        "colab": {
          "base_uri": "https://localhost:8080/"
        },
        "id": "uZqfSQiZtbnb",
        "outputId": "48b48f4f-77fe-4a3a-9f73-388ae399da4d"
      },
      "outputs": [
        {
          "data": {
            "text/plain": [
              "LinearRegression()"
            ]
          },
          "execution_count": 73,
          "metadata": {},
          "output_type": "execute_result"
        }
      ],
      "source": [
        "linear_reg.fit(X_train, y_train)"
      ]
    },
    {
      "cell_type": "code",
      "execution_count": null,
      "metadata": {
        "id": "sXeEvKkbtbp-"
      },
      "outputs": [],
      "source": [
        "linear_reg_prediction = linear_reg.predict(X_test)\n",
        "inear_reg_prediction2 = linear_reg.predict(X_train)"
      ]
    },
    {
      "cell_type": "code",
      "execution_count": null,
      "metadata": {
        "id": "ZdSH4_lytbu8"
      },
      "outputs": [],
      "source": [
        "predicted = linear_reg_prediction"
      ]
    },
    {
      "cell_type": "code",
      "execution_count": null,
      "metadata": {
        "colab": {
          "base_uri": "https://localhost:8080/"
        },
        "id": "RAGP7GWNt_ib",
        "outputId": "58d15604-5ab8-4ebe-fe7d-13ec836a3a22"
      },
      "outputs": [
        {
          "name": "stdout",
          "output_type": "stream",
          "text": [
            "Root Mean Squared Error: 0.026490009376593005\n",
            "R-squared : 0.9897582819502581\n",
            "Mean Squared Error: 0.0007017205967719853\n"
          ]
        }
      ],
      "source": [
        "from sklearn.metrics import mean_squared_error\n",
        "import sklearn.metrics as metrics\n",
        "# Evaluating the model\n",
        "print('Root Mean Squared Error:', np.sqrt(metrics.mean_squared_error(y_test, predicted)))\n",
        "print('R-squared :', metrics.r2_score(y_test, predicted))\n",
        "print('Mean Squared Error:', mean_squared_error(y_test, predicted))"
      ]
    },
    {
      "cell_type": "code",
      "execution_count": null,
      "metadata": {
        "id": "laM8RWTHuMex"
      },
      "outputs": [],
      "source": [
        "predicted_prices = y_test_scaler.inverse_transform(predicted.reshape(-1, 1))\n",
        "real_prices = y_test_scaler.inverse_transform(y_test.reshape(-1, 1))\n"
      ]
    },
    {
      "cell_type": "code",
      "execution_count": null,
      "metadata": {
        "colab": {
          "base_uri": "https://localhost:8080/",
          "height": 624
        },
        "id": "bPXuH3UBuQhu",
        "outputId": "e5036614-4c98-4649-e801-bbd46a72cb19"
      },
      "outputs": [
        {
          "data": {
            "text/plain": [
              "Text(0.5, 1.0, 'Performance of  model')"
            ]
          },
          "execution_count": 82,
          "metadata": {},
          "output_type": "execute_result"
        },
        {
          "data": {
            "image/png": "[encoded data removed]",
            "text/plain": [
              "<Figure size 1440x720 with 1 Axes>"
            ]
          },
          "metadata": {},
          "output_type": "display_data"
        }
      ],
      "source": [
        "plt.figure(figsize=(20,10))\n",
        "range_future = len(predicted)\n",
        "plt.plot( np.array(stocks['Real']),label='Test data')\n",
        "plt.plot( np.array(stocks['Predicted']),label='Prediction')\n",
        "plt.legend(['Stock Prices', 'Model Predictions'], loc='lower right')\n",
        "plt.ylabel('Stock data')\n",
        "plt.title('Performance of  model')"
      ]
    },
    {
      "cell_type": "code",
      "execution_count": null,
      "metadata": {
        "id": "CdpBAmubuQkK"
      },
      "outputs": [],
      "source": []
    }
  ],
  "metadata": {
    "colab": {
      "collapsed_sections": [],
      "toc_visible": true,
      "provenance": []
    },
    "kernelspec": {
      "display_name": "Python 3",
      "name": "python3"
    },
    "language_info": {
      "name": "python"
    }
  },
  "nbformat": 4,
  "nbformat_minor": 0
}